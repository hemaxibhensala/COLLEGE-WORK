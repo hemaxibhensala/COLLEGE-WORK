{
 "cells": [
  {
   "attachments": {},
   "cell_type": "markdown",
   "metadata": {},
   "source": [
    "<h4>REVERSE THE GIVEN STRING</h4>\n"
   ]
  },
  {
   "cell_type": "code",
   "execution_count": 2,
   "metadata": {},
   "outputs": [
    {
     "name": "stdout",
     "output_type": "stream",
     "text": [
      "ixameh\n"
     ]
    }
   ],
   "source": [
    "a=input(\"ENTER THE STRING:\")\n",
    "b=a[::-1]\n",
    "print(b)"
   ]
  },
  {
   "attachments": {},
   "cell_type": "markdown",
   "metadata": {},
   "source": [
    "<h4>REVERSE EACH WORD OF THE GIVEN SENTENCE</h4>\n",
    "<h5> Eg:how are you</h5>\n",
    "<h5>   - woh era uoy </h5>"
   ]
  },
  {
   "cell_type": "code",
   "execution_count": 21,
   "metadata": {},
   "outputs": [
    {
     "name": "stdout",
     "output_type": "stream",
     "text": [
      "olleh dlrow \n"
     ]
    }
   ],
   "source": [
    "a=input(\"ENTER THE SENTENCE:\")\n",
    "l=a.split()\n",
    "result=\"\"\n",
    "for word in l:\n",
    "    result=result+word[::-1]+\" \"\n",
    "print(result)"
   ]
  },
  {
   "attachments": {},
   "cell_type": "markdown",
   "metadata": {},
   "source": [
    "<h4>SORT AND REVERSE THE GIVEN STRING</h4>"
   ]
  },
  {
   "cell_type": "code",
   "execution_count": 27,
   "metadata": {},
   "outputs": [
    {
     "name": "stdout",
     "output_type": "stream",
     "text": [
      "sorted:  a a a b e e h h i l m n s x,reverse:alasnehb ixameh\n"
     ]
    }
   ],
   "source": [
    "st=input(\"ENTER A STRING:\")\n",
    "sort_form=' '.join(sorted(st))\n",
    "reverse_form=st[::-1]\n",
    "print(f\"sorted:{sort_form},reverse:{reverse_form}\")"
   ]
  },
  {
   "cell_type": "code",
   "execution_count": 30,
   "metadata": {},
   "outputs": [
    {
     "name": "stdout",
     "output_type": "stream",
     "text": [
      "  a a a b e e h h i l m n s x\n",
      "h : 2\n",
      "\n",
      "e : 2\n",
      "\n",
      "m : 1\n",
      "\n",
      "a : 3\n",
      "\n",
      "x : 1\n",
      "\n",
      "i : 1\n",
      "\n",
      "  : 1\n",
      "\n",
      "b : 1\n",
      "\n",
      "h : 2\n",
      "\n",
      "e : 2\n",
      "\n",
      "n : 1\n",
      "\n",
      "s : 1\n",
      "\n",
      "a : 3\n",
      "\n",
      "l : 1\n",
      "\n",
      "a : 3\n",
      "\n"
     ]
    }
   ],
   "source": [
    "a=input(\"ENTER A STRING:\")\n",
    "sort=' '.join(sorted(a))\n",
    "print(sort)\n",
    "for i in a:\n",
    "     c=a.count(i)\n",
    "     print(\"{:2}: {:}\\n\".format(i,c))\n",
    "\n"
   ]
  },
  {
   "attachments": {},
   "cell_type": "markdown",
   "metadata": {},
   "source": [
    "<h4>PRINT A PERMUTATION OF A GIVEN STRING</h4>"
   ]
  }
 ],
 "metadata": {
  "kernelspec": {
   "display_name": "Python 3",
   "language": "python",
   "name": "python3"
  },
  "language_info": {
   "codemirror_mode": {
    "name": "ipython",
    "version": 3
   },
   "file_extension": ".py",
   "mimetype": "text/x-python",
   "name": "python",
   "nbconvert_exporter": "python",
   "pygments_lexer": "ipython3",
   "version": "3.11.1"
  },
  "orig_nbformat": 4,
  "vscode": {
   "interpreter": {
    "hash": "c4eda21e1139fcd8cbb2885c757ff97ec156cc94375a40d95248a3d5156d5ce7"
   }
  }
 },
 "nbformat": 4,
 "nbformat_minor": 2
}
