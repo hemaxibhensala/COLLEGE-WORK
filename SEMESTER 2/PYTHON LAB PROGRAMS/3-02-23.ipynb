{
 "cells": [
  {
   "cell_type": "code",
   "execution_count": 1,
   "metadata": {},
   "outputs": [
    {
     "name": "stdout",
     "output_type": "stream",
     "text": [
      "HELLO WORLD...\n"
     ]
    }
   ],
   "source": [
    "print(\"HELLO WORLD...\")"
   ]
  }
 ],
 "metadata": {
  "kernelspec": {
   "display_name": "Python 3",
   "language": "python",
   "name": "python3"
  },
  "language_info": {
   "codemirror_mode": {
    "name": "ipython",
    "version": 3
   },
   "file_extension": ".py",
   "mimetype": "text/x-python",
   "name": "python",
   "nbconvert_exporter": "python",
   "pygments_lexer": "ipython3",
   "version": "3.11.1"
  },
  "orig_nbformat": 4,
  "vscode": {
   "interpreter": {
    "hash": "c4eda21e1139fcd8cbb2885c757ff97ec156cc94375a40d95248a3d5156d5ce7"
   }
  }
 },
 "nbformat": 4,
 "nbformat_minor": 2
}
