{
 "cells": [
  {
   "cell_type": "markdown",
   "metadata": {},
   "source": []
  },
  {
   "cell_type": "code",
   "execution_count": 10,
   "metadata": {},
   "outputs": [
    {
     "name": "stdout",
     "output_type": "stream",
     "text": [
      "0\n",
      "3\n",
      "6\n",
      "9\n"
     ]
    }
   ],
   "source": [
    "s1=\"abcaghaijabcd\"\n",
    "start=0\n",
    "substr='a'\n",
    "x=s1.find(substr,start)\n",
    "while(x!=-1):\n",
    "    print(x)\n",
    "    start=x+len(substr)\n",
    "    x=s1.find(substr,start)\n",
    "    "
   ]
  },
  {
   "attachments": {},
   "cell_type": "markdown",
   "metadata": {},
   "source": [
    "<h4>USE OF split() FUNCTION</h4>\n",
    "-SYNTAX IS split(Seperator,MaxSplit)"
   ]
  },
  {
   "cell_type": "code",
   "execution_count": 7,
   "metadata": {},
   "outputs": [
    {
     "name": "stdout",
     "output_type": "stream",
     "text": [
      "['I', 'am', 'learning', 'Python']\n",
      "['I', 'am', 'learning Python']\n",
      "['03', '02', '2023']\n",
      "['Amit', 'Aniket', 'Sachi', 'Ankit']\n"
     ]
    }
   ],
   "source": [
    "s1=\"I am learning Python\"\n",
    "s2=\"03/02/2023\"\n",
    "s3=\"Amit,Aniket,Sachi,Ankit\"\n",
    "l=s1.split()       #NORMAL SPLIT\n",
    "l1=s1.split(' ',2) #SPLITING WITH ' ' AS SEPRATOR AND 2 IS THE MAXSPLIT\n",
    "l2=s2.split('/')   #SPLITING WITH / AS SEPERATOR\n",
    "l3=s3.split(',')   #SPLITTING WITH ','AS SEPREATOR\n",
    "print(l)\n",
    "print(l1)\n",
    "print(l2)\n",
    "print(l3)\n"
   ]
  },
  {
   "cell_type": "code",
   "execution_count": 11,
   "metadata": {},
   "outputs": [
    {
     "name": "stdout",
     "output_type": "stream",
     "text": [
      "H.K.Bhensala\n"
     ]
    }
   ],
   "source": [
    "Name=input(\"ENTER NAME:\")\n",
    "Name=Name.title()\n",
    "short_Name=\"\"\n",
    "l=Name.split()\n",
    "length=len(l)\n",
    "for i in range(length-1):\n",
    "\n",
    "    short_Name=short_Name+l[i][0]+\".\"\n",
    "short_Name+=l[length-1]\n",
    "print(short_Name)"
   ]
  },
  {
   "cell_type": "code",
   "execution_count": null,
   "metadata": {},
   "outputs": [],
   "source": []
  }
 ],
 "metadata": {
  "kernelspec": {
   "display_name": "Python 3",
   "language": "python",
   "name": "python3"
  },
  "language_info": {
   "codemirror_mode": {
    "name": "ipython",
    "version": 3
   },
   "file_extension": ".py",
   "mimetype": "text/x-python",
   "name": "python",
   "nbconvert_exporter": "python",
   "pygments_lexer": "ipython3",
   "version": "3.11.1 (tags/v3.11.1:a7a450f, Dec  6 2022, 19:58:39) [MSC v.1934 64 bit (AMD64)]"
  },
  "orig_nbformat": 4,
  "vscode": {
   "interpreter": {
    "hash": "c4eda21e1139fcd8cbb2885c757ff97ec156cc94375a40d95248a3d5156d5ce7"
   }
  }
 },
 "nbformat": 4,
 "nbformat_minor": 2
}
