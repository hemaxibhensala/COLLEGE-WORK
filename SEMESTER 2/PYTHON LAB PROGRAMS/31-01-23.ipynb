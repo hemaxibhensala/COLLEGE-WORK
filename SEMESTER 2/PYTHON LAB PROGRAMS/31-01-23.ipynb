{
 "cells": [
  {
   "cell_type": "markdown",
   "metadata": {},
   "source": [
    "<h3>STRING</h3>\n",
    "<h4>COLLECTION OF CHARACTERS</h4>"
   ]
  },
  {
   "cell_type": "code",
   "execution_count": 5,
   "metadata": {},
   "outputs": [
    {
     "name": "stdout",
     "output_type": "stream",
     "text": [
      "P\n",
      "y\n",
      "t\n",
      "h\n",
      "o\n",
      "n\n"
     ]
    }
   ],
   "source": [
    "c='Python'\n",
    "for i in c:\n",
    " print(i)"
   ]
  },
  {
   "attachments": {},
   "cell_type": "markdown",
   "metadata": {},
   "source": [
    "<h4>IN WHILE LOOP</h4>"
   ]
  },
  {
   "cell_type": "code",
   "execution_count": 7,
   "metadata": {},
   "outputs": [
    {
     "name": "stdout",
     "output_type": "stream",
     "text": [
      "P\n",
      "Y\n",
      "T\n",
      "H\n",
      "O\n",
      "N\n"
     ]
    }
   ],
   "source": [
    "i=0\n",
    "c=\"PYTHON\"\n",
    "while(i<len(c)):\n",
    " print(c[i])\n",
    " i=i+1"
   ]
  },
  {
   "cell_type": "code",
   "execution_count": 9,
   "metadata": {},
   "outputs": [],
   "source": [
    "c='a'\n",
    "c=c*50\n",
    "for i in range(50):\n",
    "    c=c+'a'"
   ]
  },
  {
   "cell_type": "code",
   "execution_count": 1,
   "metadata": {},
   "outputs": [
    {
     "data": {
      "text/plain": [
       "1"
      ]
     },
     "execution_count": 1,
     "metadata": {},
     "output_type": "execute_result"
    }
   ],
   "source": [
    "c='HELLO'\n",
    "c.find(\"E\")"
   ]
  }
 ],
 "metadata": {
  "kernelspec": {
   "display_name": "Python 3",
   "language": "python",
   "name": "python3"
  },
  "language_info": {
   "codemirror_mode": {
    "name": "ipython",
    "version": 3
   },
   "file_extension": ".py",
   "mimetype": "text/x-python",
   "name": "python",
   "nbconvert_exporter": "python",
   "pygments_lexer": "ipython3",
   "version": "3.11.1 (tags/v3.11.1:a7a450f, Dec  6 2022, 19:58:39) [MSC v.1934 64 bit (AMD64)]"
  },
  "orig_nbformat": 4,
  "vscode": {
   "interpreter": {
    "hash": "c4eda21e1139fcd8cbb2885c757ff97ec156cc94375a40d95248a3d5156d5ce7"
   }
  }
 },
 "nbformat": 4,
 "nbformat_minor": 2
}
